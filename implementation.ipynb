{
 "cells": [
  {
   "cell_type": "markdown",
   "id": "54db7885",
   "metadata": {},
   "source": [
    "# Implementations of Shortest Path Algorithms\n",
    "\n",
    "Daniel Park, Rajiv Perera, Satchel Sevenau"
   ]
  },
  {
   "cell_type": "markdown",
   "id": "ba7f1452",
   "metadata": {},
   "source": [
    "**Goals**: \n",
    "- Implement one (or more) of the several popular shortest path algorithms described in your book or online.\n",
    "- Apply freely available implementations of shortest path algorithms on a graph of your choice, and compare the performance of these algorithms."
   ]
  },
  {
   "cell_type": "code",
   "execution_count": 1,
   "id": "2e5f83fe",
   "metadata": {},
   "outputs": [],
   "source": [
    "import pandas\n",
    "import numpy\n",
    "from collections import deque"
   ]
  },
  {
   "cell_type": "markdown",
   "id": "02574cc5",
   "metadata": {},
   "source": [
    "## Graph Representations (Adjacency List)"
   ]
  },
  {
   "cell_type": "code",
   "execution_count": 2,
   "id": "2c8189ea",
   "metadata": {},
   "outputs": [],
   "source": [
    "graph = {'A': ['B', 'C'],  \n",
    " 'B': ['D', 'E'],  \n",
    " 'C': ['F'],  \n",
    " 'E': ['F']}\n",
    "\n",
    "adj_list = {\n",
    "    'A':['B','D'],\n",
    "    'B':['A','C'],\n",
    "    'C':['B'],\n",
    "    'D':['A','E','F'],\n",
    "    'E':['D','F','G'],\n",
    "    'F':['D','E','H'],\n",
    "    'G':['E','H'],\n",
    "    'H':['G','F']\n",
    "}"
   ]
  },
  {
   "cell_type": "markdown",
   "id": "0318aa31",
   "metadata": {},
   "source": [
    "## Breadth-First-Search"
   ]
  },
  {
   "cell_type": "code",
   "execution_count": 3,
   "id": "63a472e5",
   "metadata": {},
   "outputs": [],
   "source": [
    "def bfs(graph, start):  \n",
    "    visited = set()\n",
    "    queue = deque(start)\n",
    "    while len(queue) > 0:\n",
    "        vertex = queue.popleft()\n",
    "        visited.add(vertex)\n",
    "        if vertex in graph:\n",
    "            for neighbor in graph[vertex]:\n",
    "                if neighbor not in visited:\n",
    "                    queue.append(neighbor)\n",
    "    return visited"
   ]
  },
  {
   "cell_type": "code",
   "execution_count": 4,
   "id": "49280cf6",
   "metadata": {},
   "outputs": [
    {
     "data": {
      "text/plain": [
       "{'B', 'D', 'E', 'F'}"
      ]
     },
     "execution_count": 4,
     "metadata": {},
     "output_type": "execute_result"
    }
   ],
   "source": [
    "bfs(graph, 'B')"
   ]
  },
  {
   "cell_type": "code",
   "execution_count": 5,
   "id": "85322ec4",
   "metadata": {},
   "outputs": [
    {
     "data": {
      "text/plain": [
       "{'A', 'B', 'C', 'D', 'E', 'F', 'G', 'H'}"
      ]
     },
     "execution_count": 5,
     "metadata": {},
     "output_type": "execute_result"
    }
   ],
   "source": [
    "bfs(adj_list, 'A')"
   ]
  }
 ],
 "metadata": {
  "kernelspec": {
   "display_name": "Python 3 (ipykernel)",
   "language": "python",
   "name": "python3"
  },
  "language_info": {
   "codemirror_mode": {
    "name": "ipython",
    "version": 3
   },
   "file_extension": ".py",
   "mimetype": "text/x-python",
   "name": "python",
   "nbconvert_exporter": "python",
   "pygments_lexer": "ipython3",
   "version": "3.9.12"
  }
 },
 "nbformat": 4,
 "nbformat_minor": 5
}
