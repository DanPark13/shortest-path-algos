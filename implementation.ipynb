{
 "cells": [
  {
   "cell_type": "markdown",
   "id": "54db7885",
   "metadata": {},
   "source": [
    "# Implementations of Breadth-First-Search\n",
    "\n",
    "Graph Theory Deep Dive | Discrete Mathematics - MTH2110 | Daniel Park, Rajiv Perera, Satchel Sevenau"
   ]
  },
  {
   "cell_type": "markdown",
   "id": "ba7f1452",
   "metadata": {},
   "source": [
    "**Goals**: \n",
    "- Representing Graphs\n",
    "- Breadth-First-Search Algorithm Implementations\n",
    "- Time Complexity Graphs"
   ]
  },
  {
   "cell_type": "code",
   "execution_count": 1,
   "id": "2e5f83fe",
   "metadata": {},
   "outputs": [],
   "source": [
    "from collections import deque"
   ]
  },
  {
   "cell_type": "markdown",
   "id": "5b60a606",
   "metadata": {},
   "source": [
    "## Graph Representations (Adjacency List)"
   ]
  },
  {
   "cell_type": "code",
   "execution_count": 2,
   "id": "2c8189ea",
   "metadata": {},
   "outputs": [],
   "source": [
    "graph_1 = {'A': ['B', 'C'],  \n",
    " 'B': ['D', 'E'],  \n",
    " 'C': ['F'],  \n",
    " 'E': ['F']}\n",
    "\n",
    "graph_2 = {\n",
    "    'A':['B','D'],\n",
    "    'B':['A','C'],\n",
    "    'C':['B'],\n",
    "    'D':['A','E','F'],\n",
    "    'E':['D','F','G'],\n",
    "    'F':['D','E','H'],\n",
    "    'G':['E','H'],\n",
    "    'H':['G','F']\n",
    "}"
   ]
  },
  {
   "cell_type": "markdown",
   "id": "cd38f761",
   "metadata": {},
   "source": [
    "## Breadth-First-Search Algorithm Representations\n",
    "\n",
    "### Get BFS traversal starting at given vertex parameter\n",
    "\n",
    "Returns the path as well as time complexity"
   ]
  },
  {
   "cell_type": "code",
   "execution_count": 3,
   "id": "4431bbcb",
   "metadata": {},
   "outputs": [],
   "source": [
    "def bfs(graph, start):  \n",
    "    visited = set()\n",
    "    complexity = 0\n",
    "    queue = deque(start)\n",
    "    while len(queue) > 0:\n",
    "        vertex = queue.popleft()\n",
    "        complexity += 1\n",
    "        visited.add(vertex)\n",
    "        \n",
    "        if vertex in graph:\n",
    "            complexity += 1\n",
    "            for neighbor in graph[vertex]:\n",
    "                if neighbor not in visited:\n",
    "                    queue.append(neighbor)\n",
    "    return visited, complexity"
   ]
  },
  {
   "cell_type": "code",
   "execution_count": 4,
   "id": "9a348ef8",
   "metadata": {
    "scrolled": false
   },
   "outputs": [
    {
     "data": {
      "text/plain": [
       "({'A', 'B', 'C', 'D', 'E', 'F'}, 11)"
      ]
     },
     "execution_count": 4,
     "metadata": {},
     "output_type": "execute_result"
    }
   ],
   "source": [
    "bfs(graph_1, 'A')"
   ]
  },
  {
   "cell_type": "markdown",
   "id": "99c6ef4e",
   "metadata": {},
   "source": [
    "### Get BFS traversal at given start and end\n",
    "\n",
    "Returns path as well as time complexity"
   ]
  },
  {
   "cell_type": "code",
   "execution_count": 5,
   "id": "c5ac7140",
   "metadata": {},
   "outputs": [],
   "source": [
    "def bfs_start_end(graph, start, end):  \n",
    "    visited = set()\n",
    "    complexity = 0\n",
    "    queue = deque(start)\n",
    "    while len(queue) > 0:\n",
    "        vertex = queue.popleft()\n",
    "        complexity += 1\n",
    "        visited.add(vertex)\n",
    "        if vertex == end:\n",
    "            break\n",
    "        if vertex in graph:\n",
    "            complexity += 1\n",
    "            for neighbor in graph[vertex]:\n",
    "                if neighbor not in visited:\n",
    "                    queue.append(neighbor)\n",
    "    return visited, complexity"
   ]
  },
  {
   "cell_type": "code",
   "execution_count": 7,
   "id": "c9a2cd69",
   "metadata": {},
   "outputs": [
    {
     "data": {
      "text/plain": [
       "({'A', 'B', 'C', 'D', 'E', 'F', 'G', 'H'}, 17)"
      ]
     },
     "execution_count": 7,
     "metadata": {},
     "output_type": "execute_result"
    }
   ],
   "source": [
    "bfs_start_end(graph_2, 'A', 'H')"
   ]
  },
  {
   "cell_type": "markdown",
   "id": "a6616c94",
   "metadata": {},
   "source": [
    "Calculating the complexity (how many calculations/traversals the function has completed on the graph), we see that the total complexity is $O(V + E)$ where $V$ is the number of vertices and $E$ is the number of edges."
   ]
  }
 ],
 "metadata": {
  "kernelspec": {
   "display_name": "Python 3 (ipykernel)",
   "language": "python",
   "name": "python3"
  },
  "language_info": {
   "codemirror_mode": {
    "name": "ipython",
    "version": 3
   },
   "file_extension": ".py",
   "mimetype": "text/x-python",
   "name": "python",
   "nbconvert_exporter": "python",
   "pygments_lexer": "ipython3",
   "version": "3.9.12"
  }
 },
 "nbformat": 4,
 "nbformat_minor": 5
}
